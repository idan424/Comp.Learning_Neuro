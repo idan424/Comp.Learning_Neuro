{
  "nbformat": 4,
  "nbformat_minor": 0,
  "metadata": {
    "colab": {
      "name": "Project.ipynb",
      "provenance": [],
      "collapsed_sections": [
        "uC2Irqi9nVau",
        "khAtRHyrF6sc"
      ],
      "include_colab_link": true
    },
    "kernelspec": {
      "name": "python3",
      "display_name": "Python 3"
    }
  },
  "cells": [
    {
      "cell_type": "markdown",
      "metadata": {
        "id": "view-in-github",
        "colab_type": "text"
      },
      "source": [
        "<a href=\"https://colab.research.google.com/github/idan424/Comp.Learning_Neuro/blob/main/Project.ipynb\" target=\"_parent\"><img src=\"https://colab.research.google.com/assets/colab-badge.svg\" alt=\"Open In Colab\"/></a>"
      ]
    },
    {
      "cell_type": "code",
      "metadata": {
        "id": "lBqKegT4ZaD8"
      },
      "source": [
        "import warnings\r\n",
        "warnings.simplefilter(\"ignore\")\r\n",
        "\r\n",
        "import numpy as np\r\n",
        "import pandas as pd\r\n",
        "import matplotlib.pyplot as plt\r\n",
        "import seaborn as sns\r\n",
        "\r\n",
        "from sklearn.model_selection import train_test_split\r\n",
        "from sklearn.neighbors import KNeighborsClassifier"
      ],
      "execution_count": 143,
      "outputs": []
    },
    {
      "cell_type": "code",
      "metadata": {
        "id": "Xw94aZpLBoOR",
        "colab": {
          "base_uri": "https://localhost:8080/"
        },
        "outputId": "8d6b449d-afa1-495f-e345-d51005ab2e76"
      },
      "source": [
        "!git clone https://github.com/idan424/Comp.Learning_Neuro\n"
      ],
      "execution_count": 144,
      "outputs": [
        {
          "output_type": "stream",
          "text": [
            "fatal: destination path 'Comp.Learning_Neuro' already exists and is not an empty directory.\n"
          ],
          "name": "stdout"
        }
      ]
    },
    {
      "cell_type": "code",
      "metadata": {
        "id": "urvXfo7LHnCM"
      },
      "source": [
        "PATH = '/content/Comp.Learning_Neuro/'\r\n",
        "_files = ['Run_200 02.trc', 'Run_300 02.trc', \r\n",
        "          'Run_400 02.trc', 'Run_500 02.trc']\r\n",
        "f = _files[0]"
      ],
      "execution_count": 145,
      "outputs": []
    },
    {
      "cell_type": "code",
      "metadata": {
        "id": "xWXWGJrYnlA1"
      },
      "source": [
        "def load_data(f):\r\n",
        "    _data = pd.read_table(PATH+f, header=4, index_col=0).iloc[:,:-1]\r\n",
        "    _data = _data.rename(columns={'Unnamed: 1':'Time'})\r\n",
        "    _data.reset_index(inplace=True)\r\n",
        "    labels = pd.DataFrame(np.ones(len(_data)-2)*int(f[4:7]))\r\n",
        "    \r\n",
        "    return _data, labels\r\n",
        "    \r\n",
        "\r\n",
        "def add_norm(_data):\r\n",
        "    for n in range(1,len(_data.columns)//3+1):\r\n",
        "        R_data = np.linalg.norm(_data[[f\"X{n}\",f\"Y{n}\",f\"Z{n}\"]].values,axis=1)\r\n",
        "        _data.insert(n*4+1,f'norm{n}',R_data)\r\n",
        "    \r\n",
        "    return _data\r\n",
        "    \r\n",
        "\r\n",
        "def add_av(_data):\r\n",
        "    v_data = _data.copy().drop(['Time','index'], axis=1).diff()\r\n",
        "    a_data = v_data.diff()\r\n",
        "\r\n",
        "    v_data = v_data.rename(columns={n:f\"V_{n}\" for n in _data.columns})\r\n",
        "    a_data = a_data.rename(columns={n:f\"A_{n}\" for n in _data.columns})\r\n",
        "\r\n",
        "    return _data.join([v_data, a_data]).dropna()\r\n",
        "\r\n",
        "\r\n",
        "def divide_dataset(_data, label):\r\n",
        "    N = len(_data)//10\r\n",
        "    \r\n",
        "    return [ _data.loc[10*n:10*(n+1)-1] for n in range(N)], label[0:N]\r\n",
        "\r\n",
        "\r\n",
        "def segment_processing(_seg): \r\n",
        "    seg = _seg.drop(['Time','index'], axis=1)\r\n",
        "\r\n",
        "    mean_data = seg.mean().rename({n:f'mean_{n}'for n in seg.columns})\r\n",
        "    std_data = seg.std().rename({n:f'std_{n}'for n in seg.columns})\r\n",
        "    max_data = seg.max().rename({n:f'max_{n}'for n in seg.columns})\r\n",
        "    min_data = seg.min().rename({n:f'min_{n}'for n in seg.columns})\r\n",
        "    median_data = seg.median().rename({n:f'median_{n}'for n in seg.columns})\r\n",
        "\r\n",
        "    return mean_data.append([std_data,max_data,min_data,median_data])  # returns a pd.Series()\r\n",
        "\r\n",
        "\r\n",
        "def extract_features(seg_list):\r\n",
        "    data = pd.DataFrame([segment_processing(seg) for seg in seg_list]) \r\n",
        "    \r\n",
        "    return data\r\n",
        "\r\n",
        "\r\n",
        "def process_file(f):\r\n",
        "    X,y = load_data(f)\r\n",
        "    X = add_norm(X)\r\n",
        "    X = add_av(X)\r\n",
        "    \r\n",
        "    segments, y = divide_dataset(X, y)\r\n",
        "    X = extract_features(segments)\r\n",
        "\r\n",
        "    return (X,y)  # returns a tuple"
      ],
      "execution_count": 146,
      "outputs": []
    },
    {
      "cell_type": "code",
      "metadata": {
        "id": "TKt6IU2en-ST"
      },
      "source": [
        "files = _files\r\n",
        "Xy = [process_file(f) for f in files]\r\n",
        "Xy = list(zip(*Xy))  # this flip the tuple axis order\r\n",
        "\r\n",
        "X, y = pd.concat(Xy[0]), pd.concat(Xy[1])\r\n",
        "X.reset_index(drop=True, inplace=True)\r\n",
        "y.reset_index(drop=True, inplace=True)\r\n"
      ],
      "execution_count": 147,
      "outputs": []
    },
    {
      "cell_type": "code",
      "metadata": {
        "id": "d1EXQjgYn3Ig",
        "colab": {
          "base_uri": "https://localhost:8080/"
        },
        "outputId": "aed2e74c-c115-4485-fffb-a562b88645d4"
      },
      "source": [
        "print(X.shape,y.shape)"
      ],
      "execution_count": 148,
      "outputs": [
        {
          "output_type": "stream",
          "text": [
            "(190, 2520) (190, 1)\n"
          ],
          "name": "stdout"
        }
      ]
    },
    {
      "cell_type": "markdown",
      "metadata": {
        "id": "uC2Irqi9nVau"
      },
      "source": [
        "## EDA"
      ]
    },
    {
      "cell_type": "markdown",
      "metadata": {
        "id": "genQqqzu1eZj"
      },
      "source": [
        "> # Train Test Split"
      ]
    },
    {
      "cell_type": "code",
      "metadata": {
        "id": "R59mkW3Q1iJp"
      },
      "source": [
        "X_train, X_test, y_train, y_test = train_test_split(X,y,test_size = 0.2)\r\n"
      ],
      "execution_count": 149,
      "outputs": []
    },
    {
      "cell_type": "markdown",
      "metadata": {
        "id": "t5SvKpmwWPvY"
      },
      "source": [
        "In order to avoid leakage, we fit our transforms (norm, feat. select.) on the training data, and then transform the data (both train and test)"
      ]
    },
    {
      "cell_type": "code",
      "metadata": {
        "id": "uzSeFPtFAZUE"
      },
      "source": [
        "from sklearn.feature_selection import mutual_info_classif as MI\r\n",
        "from sklearn.feature_selection import SelectKBest as SKB \r\n",
        "from sklearn.preprocessing import MinMaxScaler as NRM\r\n",
        "\r\n",
        "NUMBER_OF_FEATURES = int(X_train.shape[0]**0.5)\r\n",
        "nrm = NRM().fit(X_train.values) # normalization function\r\n",
        "skb = SKB(score_func=MI, k=NUMBER_OF_FEATURES).fit(X_train, y_train) # feature selector utility\r\n",
        "\r\n",
        "# X_train and X_test are both normalized with respect to X_train to prevent leakage\r\n",
        "X_train = pd.DataFrame(nrm.transform(X_train.values), columns=X_train.columns)\r\n",
        "X_test = pd.DataFrame(nrm.transform(X_test.values), columns=X_test.columns)\r\n",
        "\r\n",
        "# These are the best-K feature matrices (np.array type)\r\n",
        "X_train_skb = skb.transform(X_train)  \r\n",
        "X_test_skb = skb.transform(X_test)\r\n"
      ],
      "execution_count": 161,
      "outputs": []
    },
    {
      "cell_type": "markdown",
      "metadata": {
        "id": "Y6dyuKEUmxHQ"
      },
      "source": [
        "# features and scores"
      ]
    },
    {
      "cell_type": "code",
      "metadata": {
        "colab": {
          "base_uri": "https://localhost:8080/",
          "height": 607
        },
        "id": "jY1a3efCmGlZ",
        "outputId": "1400e4bc-9967-4b86-f8a2-0cc119f8f846"
      },
      "source": [
        "N_PRINT = NUMBER_OF_FEATURES\r\n",
        "# this gets $N_PRINT score indices from high to low\r\n",
        "ord_idx = skb.scores_.argsort()[-N_PRINT-1:-1]\r\n",
        "\r\n",
        "fig, ax = plt.subplots()  \r\n",
        "fig.set_size_inches([8,N_PRINT/3+6]) # modular figure size w.r.t. $N_PRINT\r\n",
        "\r\n",
        "# these just prettify the graph\r\n",
        "_ = ax.barh(range(N_PRINT), skb.scores_[ord_idx], \r\n",
        "            tick_label=X_train.columns[ord_idx])\r\n",
        "_ = ax.set_title(f\"best {N_PRINT} features and their scores\")\r\n",
        "for i, v in enumerate(skb.scores_[ord_idx]):\r\n",
        "    ax.text(v/2, i-0.05, f'{v:.4}', color='white', fontweight='bold')\r\n"
      ],
      "execution_count": 162,
      "outputs": [
        {
          "output_type": "display_data",
          "data": {
            "image/png": "[encoded data removed]",
            "text/plain": [
              "<Figure size 576x720 with 1 Axes>"
            ]
          },
          "metadata": {
            "tags": [],
            "needs_background": "light"
          }
        }
      ]
    },
    {
      "cell_type": "code",
      "metadata": {
        "id": "vArkVY9-BwQ0"
      },
      "source": [
        "# X_train_skb"
      ],
      "execution_count": null,
      "outputs": []
    },
    {
      "cell_type": "code",
      "metadata": {
        "colab": {
          "base_uri": "https://localhost:8080/"
        },
        "id": "DDkADG024gMh",
        "outputId": "7c70d734-9e0f-49b3-b701-0de42cb7540a"
      },
      "source": [
        "knn = KNeighborsClassifier(n_neighbors=12)\r\n",
        "_ = knn.fit(X_train_skb, y_train)\r\n",
        "_y_predicted = knn.predict(X_test_skb)\r\n",
        "_y_predicted = pd.DataFrame(data=_y_predicted,index = y_test.index)\r\n",
        "\r\n",
        "misclassification_rate = np.sum(y_predicted - y_test)\r\n",
        "misclassification_rate"
      ],
      "execution_count": null,
      "outputs": [
        {
          "output_type": "execute_result",
          "data": {
            "text/plain": [
              "0    0.0\n",
              "dtype: float64"
            ]
          },
          "metadata": {
            "tags": []
          },
          "execution_count": 133
        }
      ]
    },
    {
      "cell_type": "code",
      "metadata": {
        "colab": {
          "base_uri": "https://localhost:8080/"
        },
        "id": "THfa5FTsdmQ4",
        "outputId": "07213923-5246-42ec-fb9d-a837cae5da56"
      },
      "source": [
        "y_predicted = _y_predicted\r\n",
        "y_predicted = y_predicted.join(y_test, rsuffix='_test')\r\n",
        "\r\n"
      ],
      "execution_count": null,
      "outputs": [
        {
          "output_type": "stream",
          "text": [
            "0    False\n",
            "dtype: bool\n"
          ],
          "name": "stdout"
        }
      ]
    },
    {
      "cell_type": "markdown",
      "metadata": {
        "id": "khAtRHyrF6sc"
      },
      "source": [
        "## _##########################################################_"
      ]
    },
    {
      "cell_type": "code",
      "metadata": {
        "id": "6_A05ywOvo-h"
      },
      "source": [
        "# X.plot()\r\n",
        "# ax = plt.gca()\r\n",
        "# ax.legend().remove()\r\n",
        "# ax.figure.set_size_inches([16,200])\r\n",
        "y_train"
      ],
      "execution_count": null,
      "outputs": []
    }
  ]
}